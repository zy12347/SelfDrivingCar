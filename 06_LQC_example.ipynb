{
 "cells": [
  {
   "cell_type": "markdown",
   "id": "12435c86",
   "metadata": {},
   "source": [
    "# NA 565 Example Session 1 - Linear Quadratic Control\n",
    "\n",
    "In the example session, we will implement the Linear Quadratic Regulator (LQR). \n",
    "\n",
    "We will discuss:\n",
    "\n",
    "1. The implementation using linear algebra technique, \n",
    "\n",
    "2. The implementation using Quadratic Programming (CVX), \n",
    "\n",
    "3. The influence of preview horizon for LQR, \n",
    "\n",
    "4. The controllability, if time permitted. \n"
   ]
  },
  {
   "cell_type": "markdown",
   "id": "527129ec",
   "metadata": {},
   "source": [
    "# Linear Quadratic Regulator (LQR)\n",
    "\n",
    "We consider a discrete-time dynamical system, with state $x_k \\in \\mathbb{R}^n$, and control input $u_k \\in \\mathbb{R}^{m}$:\n",
    "\n",
    "$x_{k+1} = A_k x_k + B_k u_k$. \n",
    "\n",
    "We assume the system starts from initial condition $x_0 = x_{init}$, and our goal is to regularize state to $x = 0$. \n",
    "\n",
    "Then we can define the $N$-step LQR, with the weighting matrix $L$ for terminal states, $Q$ and $R$ for intermediate states and control:\n",
    "\n",
    "$\n",
    "\\begin{equation}\n",
    "    \\begin{aligned}\n",
    "    \\min_{x_k,  u_k} & \\  \\frac{1}{2} x_N^TL x_N + \\sum_{k=0}^{N-1}  \\frac{1}{2}x_k^TQ x_k +  \\frac{1}{2}u_k^TR u_k \\\\ \n",
    "    \\text{s.t. } \\quad & x_{k+1} = A_k x_{k} + B_k u_k, \\\\\n",
    "                       & x_0 =  x_{init}, \\\\ \n",
    "                       & x_N =  x_{des}, \\\\\n",
    "                       & k = 0, \\dots, N-1.\n",
    "    \\end{aligned}\n",
    "\\end{equation}\n",
    "$\n",
    "\n"
   ]
  },
  {
   "cell_type": "markdown",
   "id": "6896118c",
   "metadata": {},
   "source": [
    "# Closed-form solution of LQR via KKT condition\n",
    "\n",
    "## KKT condition for standard QP\n",
    "For QP in the form, with $P > 0$:\n",
    "\n",
    "$$\n",
    "\\begin{equation}\n",
    "    \\begin{aligned}\n",
    "    \\min_{s}  \\quad &\\frac{1}{2}s^{T}Ps + q^{T}s \\\\ \n",
    "    \\text{s.t. } \\quad & Cs= d,\n",
    "    \\end{aligned}\n",
    "\\end{equation}\n",
    "$$\n",
    "\n",
    "we can obtain the closed form solution via KKT condition:\n",
    "\n",
    "$$\n",
    "\\begin{aligned}\n",
    "\\mathcal{L}(s, u, \\lambda) &= \\frac{1}{2}s^{T}Ps + q^{T}s + \\lambda^{T}(Cs + d),  \\\\\n",
    "\\nabla_x \\mathcal{L}(s, u, \\lambda) &= Ps + q + C^{T}\\lambda = 0, \\\\\n",
    "\\nabla_\\lambda \\mathcal{L}(s, u, \\lambda) &= Cx - d = 0, \n",
    "\\end{aligned}\n",
    "$$\n",
    "\n",
    "which is:\n",
    "\n",
    "$$\n",
    "\\begin{bmatrix} P & C^{T} \\\\\n",
    "                C & 0                \n",
    "\\end{bmatrix}\n",
    "\n",
    "\\begin{bmatrix} s \\\\\n",
    "                \\lambda                \n",
    "\\end{bmatrix}\n",
    "=\n",
    "\\begin{bmatrix} -q \\\\\n",
    "                d                \n",
    "\\end{bmatrix}\n",
    "$$\n",
    "\n",
    "## Convert the LQR to standar QP\n",
    "$$\n",
    "\\begin{gathered}\n",
    "{P}=\\left[\\begin{array}{ccc|ccc}\n",
    "Q_0 & \\cdots & 0 & 0 & \\cdots & 0 \\\\\n",
    "\\vdots & \\ddots & \\vdots & \\vdots & \\ddots & \\vdots \\\\\n",
    "0 & \\cdots & P & 0 & \\cdots & 0 \\\\\n",
    "\\hline 0 & \\cdots & 0 & R_0 & \\cdots & 0 \\\\\n",
    "\\vdots & \\ddots & \\vdots & \\vdots & \\ddots & \\vdots \\\\\n",
    "0 & \\cdots & 0 & 0 & \\cdots & R_{N-1}\n",
    "\\end{array}\\right], \\quad {q}=0 \\\\\n",
    "{C}=\\left[\\begin{array}{cccccc|cccc}\n",
    "A_0 & -I & 0 & \\cdots & 0 & 0 & B_0 & 0 & \\cdots & 0 \\\\\n",
    "0 & A_1 & -I & \\cdots & 0 & 0 & 0 & B_1 & \\cdots & 0 \\\\\n",
    "\\vdots & \\vdots & \\vdots & & \\vdots & \\vdots & \\vdots & \\vdots & \\ddots & \\vdots \\\\\n",
    "0 & 0 & 0 & \\cdots & A_{N-1} & -I & 0 & 0 & \\cdots & B_{N-1} \\\\\n",
    "\\hline I & 0 & 0 & \\cdots & 0 & 0 & 0 & 0 & \\cdots & 0 \\\\\n",
    "0 & 0 & 0 & \\cdots & 0 & I & 0 & 0 & \\cdots & 0\n",
    "\\end{array}\\right], \\quad {d}=\\left[\\begin{array}{c}\n",
    "0 \\\\\n",
    "0 \\\\\n",
    "\\vdots \\\\\n",
    "0 \\\\\n",
    "\\hline x^{\\text {init }} \\\\\n",
    "x^{\\text {des }}\n",
    "\\end{array}\\right]\n",
    "\\end{gathered}\n",
    "$$"
   ]
  },
  {
   "cell_type": "code",
   "execution_count": 1,
   "id": "0468576b",
   "metadata": {},
   "outputs": [],
   "source": [
    "%load_ext autoreload\n",
    "%autoreload 2\n",
    "import matplotlib.pyplot as plt\n",
    "import numpy as np\n",
    "import cvxpy as cp\n",
    "\n",
    "from plot_utils import *"
   ]
  },
  {
   "cell_type": "markdown",
   "id": "201da0fd",
   "metadata": {},
   "source": [
    "## CVX Tutorial\n",
    "\n",
    "Install CVX: https://www.cvxpy.org/install/\n",
    "\n",
    "A basic QP example: https://www.cvxpy.org/examples/basic/quadratic_program.html"
   ]
  },
  {
   "cell_type": "code",
   "execution_count": 2,
   "id": "ecef2bc9",
   "metadata": {},
   "outputs": [
    {
     "name": "stdout",
     "output_type": "stream",
     "text": [
      "\n",
      "The optimal value is 86.89141585569907\n",
      "A solution x is\n",
      "[-1.68244521  0.29769913 -2.38772183 -2.79986015  1.18270433 -0.20911897\n",
      " -4.50993526  3.76683701 -0.45770675 -3.78589638]\n",
      "A dual solution corresponding to the inequality constraints is\n",
      "[ 0.          0.          0.          0.          0.         10.45538054\n",
      "  0.          0.          0.         39.67365045  0.          0.\n",
      "  0.         20.79927156  6.54115873]\n"
     ]
    }
   ],
   "source": [
    "# Import packages.\n",
    "import cvxpy as cp\n",
    "import numpy as np\n",
    "\n",
    "# Generate a random non-trivial quadratic program.\n",
    "m = 15\n",
    "n = 10\n",
    "p = 5\n",
    "np.random.seed(1)\n",
    "P = np.random.randn(n, n)\n",
    "P = P.T @ P\n",
    "q = np.random.randn(n)\n",
    "G = np.random.randn(m, n)\n",
    "h = G @ np.random.randn(n)\n",
    "A = np.random.randn(p, n)\n",
    "b = np.random.randn(p)\n",
    "\n",
    "# Define and solve the CVXPY problem.\n",
    "x = cp.Variable(n)\n",
    "prob = cp.Problem(cp.Minimize((1/2)*cp.quad_form(x, P) + q.T @ x),\n",
    "                 [G @ x <= h,\n",
    "                  A @ x == b])\n",
    "prob.solve()\n",
    "\n",
    "# Print result.\n",
    "print(\"\\nThe optimal value is\", prob.value)\n",
    "print(\"A solution x is\")\n",
    "print(x.value)\n",
    "print(\"A dual solution corresponding to the inequality constraints is\")\n",
    "print(prob.constraints[0].dual_value)"
   ]
  },
  {
   "cell_type": "markdown",
   "id": "c4e3d80f",
   "metadata": {},
   "source": [
    "## A simple linear system simulator"
   ]
  },
  {
   "cell_type": "code",
   "execution_count": 3,
   "id": "b8ad9552",
   "metadata": {},
   "outputs": [],
   "source": [
    "def sim_LinSys(x0, Ad, Bd, controller, N_sim, preview):\n",
    "\n",
    "    dim_state = Ad.shape[0]\n",
    "    dim_ctrl  = Bd.shape[1]\n",
    "\n",
    "    x_log = np.zeros((N_sim + 1, dim_state))\n",
    "    u_log = np.zeros((N_sim, dim_ctrl ))\n",
    "\n",
    "    x_log[0, :] = np.squeeze(x0)\n",
    "\n",
    "    for k in range(N_sim):\n",
    "\n",
    "        output = controller(x_log[k, :], Ad, Bd, preview, dim_state, dim_ctrl)\n",
    "        u_act = output[0]\n",
    "\n",
    "        u_act = np.reshape(u_act, [dim_ctrl, 1])\n",
    "        xkp1 = Ad @ np.reshape(x_log[k, :], [dim_state, 1])  + Bd @ u_act\n",
    "\n",
    "        x_log[k + 1, :] = np.squeeze(xkp1)\n",
    "        u_log[k, :]     = np.squeeze(u_act)\n",
    "    \n",
    "    return x_log, u_log\n",
    "\n",
    "def void_controller(x0, Ad, Bd, preview, dim_state, dim_ctrl):\n",
    "    return [np.zeros(dim_ctrl)]"
   ]
  },
  {
   "cell_type": "code",
   "execution_count": 4,
   "id": "8713d8e6",
   "metadata": {},
   "outputs": [
    {
     "data": {
      "image/png": "[encoded data removed]",
      "text/plain": [
       "<Figure size 360x216 with 1 Axes>"
      ]
     },
     "metadata": {
      "needs_background": "light"
     },
     "output_type": "display_data"
    },
    {
     "data": {
      "image/png": "[encoded data removed]",
      "text/plain": [
       "<Figure size 360x360 with 1 Axes>"
      ]
     },
     "metadata": {
      "needs_background": "light"
     },
     "output_type": "display_data"
    },
    {
     "data": {
      "image/png": "[encoded data removed]",
      "text/plain": [
       "<Figure size 360x360 with 1 Axes>"
      ]
     },
     "metadata": {
      "needs_background": "light"
     },
     "output_type": "display_data"
    }
   ],
   "source": [
    "## Now we generate an linear system and discretize it\n",
    "dt = 0.1\n",
    "Bc = np.array([[0, 0], \n",
    "               [1, 0],\n",
    "               [0, 1]])\n",
    "\n",
    "Ac = np.array([[0, 1, -5],\n",
    "               [-5, 0, 0],\n",
    "               [0, 1, 0]]) ## Unstable case. About the eigen values, \n",
    "               \n",
    "\n",
    "## I am using the infinite series ...\n",
    "Ad = np.eye(3) + Ac * dt + Ac @ Ac * dt**2 / 2\n",
    "Bd = Bc * dt # + Ac @ Bc * dt**2 / 2\n",
    "\n",
    "x0 = np.random.randn(3, 1)\n",
    "\n",
    "N_sim = 300\n",
    "preview = 2\n",
    "\n",
    "x_log, u_log = sim_LinSys(x0, Ad, Bd, void_controller, N_sim, preview)\n",
    "\n",
    "plt.figure(figsize=(5, 3))\n",
    "\n",
    "plt.plot(x_log[:, 0], '--', label = \"x_1\")\n",
    "plt.plot(x_log[:, 1], '--', label = \"x_2\")\n",
    "plt.plot(x_log[:, 2], '--', label = \"x_3\")\n",
    "\n",
    "plt.title('Trajectory')\n",
    "plt.legend()\n",
    "plt.grid()\n",
    "plt.show()\n",
    "\n",
    "\n",
    "### Discrete time eigen values\n",
    "ev, _= np.linalg.eig(Ad)\n",
    "\n",
    "plt.figure(figsize=(5, 5))\n",
    "plt.gca().set_aspect('equal')\n",
    "\n",
    "for a in ev:\n",
    "    plt.plot(a.real, a.imag, 'b.', markersize = 10)\n",
    "plt.plot(np.cos(np.linspace(0, np.pi * 2, 100)), np.sin(np.linspace(0, np.pi * 2, 100)), \"k--\")\n",
    "\n",
    "plt.title(\"Discrete time eigen value\")\n",
    "plt.xlabel(\"Re\")\n",
    "plt.ylabel(\"Im\")\n",
    "\n",
    "plt.grid()\n",
    "plt.show()\n",
    "\n",
    "### Continuous time eigen values\n",
    "ev, _= np.linalg.eig(Ac)\n",
    "\n",
    "plt.figure(figsize=(5, 5))\n",
    "plt.gca().set_aspect('equal')\n",
    "\n",
    "for a in ev:\n",
    "    plt.plot(a.real, a.imag, 'b.', markersize = 10)\n",
    "\n",
    "\n",
    "\n",
    "ah = 5.\n",
    "plt.plot(np.linspace(-ah, ah, 100), np.linspace(-ah, ah, 100) * 0, \"k--\")\n",
    "plt.plot(np.linspace(-ah, ah, 100) * 0, np.linspace(-ah, ah, 100), \"k--\")\n",
    "\n",
    "plt.title(\"Continuous time eigen value\")\n",
    "plt.xlabel(\"Re\")\n",
    "plt.ylabel(\"Im\")\n",
    "\n",
    "plt.grid()\n",
    "plt.xlim([-ah, ah])\n",
    "plt.ylim([-ah, ah])\n",
    "plt.show()"
   ]
  },
  {
   "cell_type": "markdown",
   "id": "3e04ee07",
   "metadata": {},
   "source": [
    "## Batch solution of LQR via KKT condition\n",
    "\n",
    "### Remember the matrices\n",
    "$$\n",
    "\\begin{gathered}\n",
    "{P}=\\left[\\begin{array}{ccc|ccc}\n",
    "Q_0 & \\cdots & 0 & 0 & \\cdots & 0 \\\\\n",
    "\\vdots & \\ddots & \\vdots & \\vdots & \\ddots & \\vdots \\\\\n",
    "0 & \\cdots & P & 0 & \\cdots & 0 \\\\\n",
    "\\hline 0 & \\cdots & 0 & R_0 & \\cdots & 0 \\\\\n",
    "\\vdots & \\ddots & \\vdots & \\vdots & \\ddots & \\vdots \\\\\n",
    "0 & \\cdots & 0 & 0 & \\cdots & R_{N-1}\n",
    "\\end{array}\\right], \\quad {q}=0 \\\\\n",
    "{C}=\\left[\\begin{array}{cccccc|cccc}\n",
    "A_0 & -I & 0 & \\cdots & 0 & 0 & B_0 & 0 & \\cdots & 0 \\\\\n",
    "0 & A_1 & -I & \\cdots & 0 & 0 & 0 & B_1 & \\cdots & 0 \\\\\n",
    "\\vdots & \\vdots & \\vdots & & \\vdots & \\vdots & \\vdots & \\vdots & \\ddots & \\vdots \\\\\n",
    "0 & 0 & 0 & \\cdots & A_{N-1} & -I & 0 & 0 & \\cdots & B_{N-1} \\\\\n",
    "\\hline I & 0 & 0 & \\cdots & 0 & 0 & 0 & 0 & \\cdots & 0 \\\\\n",
    "0 & 0 & 0 & \\cdots & 0 & I & 0 & 0 & \\cdots & 0\n",
    "\\end{array}\\right], \\quad {d}=\\left[\\begin{array}{c}\n",
    "0 \\\\\n",
    "0 \\\\\n",
    "\\vdots \\\\\n",
    "0 \\\\\n",
    "\\hline x^{\\text {init }} \\\\\n",
    "x^{\\text {des }}\n",
    "\\end{array}\\right]\n",
    "\\end{gathered}\n",
    "$$"
   ]
  },
  {
   "cell_type": "code",
   "execution_count": 5,
   "id": "a3bb3d6f",
   "metadata": {},
   "outputs": [],
   "source": [
    "def LQR_linalg(x0, A, B, preview, dim_state, dim_ctrl):\n",
    "    Q = np.eye(dim_state) * 1\n",
    "    R = np.eye(dim_ctrl) * 20\n",
    "    L = np.eye(dim_state) * 100\n",
    "\n",
    "    n_u = dim_ctrl * preview\n",
    "    n_x = dim_state * (preview + 1)\n",
    "\n",
    "    n_var = n_u + n_x\n",
    "    n_eq  = dim_state * (preview + 1) # dynamics\n",
    "\n",
    "    # define the cost function\n",
    "\n",
    "    C = np.zeros((n_eq, n_var))\n",
    "    d = np.zeros((n_eq, 1))\n",
    "\n",
    "    P = np.zeros((n_var, n_var))\n",
    "    q = np.zeros((n_var, 1))\n",
    "    for k in range(preview):\n",
    "        P[k * dim_state:(k+1) * dim_state, k * dim_state:(k+1) * dim_state] = Q\n",
    "        P[n_x + k * dim_ctrl:n_x + (k+1) * dim_ctrl, n_x + k * dim_ctrl:n_x + (k+1) * dim_ctrl] = R\n",
    "    P[n_x - dim_state:n_x, n_x - dim_state:n_x] = L\n",
    "\n",
    "    for k in range(preview):\n",
    "        C[k * dim_state:(k+1) * dim_state,      k * dim_state:(k+1) * dim_state]       = A\n",
    "        C[k * dim_state:(k+1) * dim_state,  (k+1) * dim_state:(k+2) * dim_state]       = -np.eye(dim_state)\n",
    "        C[k * dim_state:(k+1) * dim_state, n_x + k * dim_ctrl:n_x + (k+1) * dim_ctrl]  = B\n",
    "    \n",
    "    C[dim_state * preview:dim_state * (preview + 1), 0:dim_state] = np.eye(dim_state)\n",
    "    d[-dim_state:, 0] = x0\n",
    "\n",
    "    A_kkt = np.concatenate((P, C.T), axis=1)\n",
    "    C_ = np.concatenate( (C, np.zeros( (C.shape[0], C.shape[0] )) ), axis = 1)\n",
    "    A_kkt = np.concatenate((A_kkt,  C_ ), axis=0)\n",
    "\n",
    "    b_kkt = np.concatenate((-q, d), axis = 0)\n",
    "\n",
    "    # Check the rank of the matrix for KKT system\n",
    "    # print(\"Rank of A_kkt:\", np.linalg.matrix_rank(A_kkt))\n",
    "    assert np.linalg.matrix_rank(A_kkt) == A_kkt.shape[0], \"KKT system matrix is not full rank\"\n",
    "\n",
    "    # sol = np.linalg.inv(A_kkt) @ b_kkt\n",
    "    sol = np.linalg.solve(A_kkt, b_kkt)\n",
    "\n",
    "    u_act = sol[n_x:n_x + dim_ctrl]\n",
    "    u_act = np.squeeze(u_act)\n",
    "\n",
    "    return [u_act, C, d, P, q, A_kkt, b_kkt, sol]"
   ]
  },
  {
   "cell_type": "code",
   "execution_count": 6,
   "id": "34d3185f",
   "metadata": {},
   "outputs": [
    {
     "data": {
      "image/png": "[encoded data removed]",
      "text/plain": [
       "<Figure size 360x216 with 1 Axes>"
      ]
     },
     "metadata": {
      "needs_background": "light"
     },
     "output_type": "display_data"
    },
    {
     "data": {
      "image/png": "[encoded data removed]",
      "text/plain": [
       "<Figure size 360x216 with 1 Axes>"
      ]
     },
     "metadata": {
      "needs_background": "light"
     },
     "output_type": "display_data"
    }
   ],
   "source": [
    "x0 = np.random.randn(3, 1)\n",
    "N_sim = 100\n",
    "preview = 10\n",
    "# for preview in [3, 4, 5, 6, 10, 20]:\n",
    "x_log, u_log = sim_LinSys(x0, Ad, Bd, LQR_linalg, N_sim, preview)\n",
    "\n",
    "plot_traj(x_log, u_log, preview)\n",
    "plot_input(x_log, u_log, preview)"
   ]
  },
  {
   "cell_type": "markdown",
   "id": "e6d3f3f9",
   "metadata": {},
   "source": [
    "## Batch solution of LQR via CVX\n",
    "\n",
    "### Remember the matrices\n",
    "$$\n",
    "\\begin{gathered}\n",
    "{P}=\\left[\\begin{array}{ccc|ccc}\n",
    "Q_0 & \\cdots & 0 & 0 & \\cdots & 0 \\\\\n",
    "\\vdots & \\ddots & \\vdots & \\vdots & \\ddots & \\vdots \\\\\n",
    "0 & \\cdots & P & 0 & \\cdots & 0 \\\\\n",
    "\\hline 0 & \\cdots & 0 & R_0 & \\cdots & 0 \\\\\n",
    "\\vdots & \\ddots & \\vdots & \\vdots & \\ddots & \\vdots \\\\\n",
    "0 & \\cdots & 0 & 0 & \\cdots & R_{N-1}\n",
    "\\end{array}\\right], \\quad {q}=0 \\\\\n",
    "{C}=\\left[\\begin{array}{cccccc|cccc}\n",
    "A_0 & -I & 0 & \\cdots & 0 & 0 & B_0 & 0 & \\cdots & 0 \\\\\n",
    "0 & A_1 & -I & \\cdots & 0 & 0 & 0 & B_1 & \\cdots & 0 \\\\\n",
    "\\vdots & \\vdots & \\vdots & & \\vdots & \\vdots & \\vdots & \\vdots & \\ddots & \\vdots \\\\\n",
    "0 & 0 & 0 & \\cdots & A_{N-1} & -I & 0 & 0 & \\cdots & B_{N-1} \\\\\n",
    "\\hline I & 0 & 0 & \\cdots & 0 & 0 & 0 & 0 & \\cdots & 0 \\\\\n",
    "0 & 0 & 0 & \\cdots & 0 & I & 0 & 0 & \\cdots & 0\n",
    "\\end{array}\\right], \\quad {d}=\\left[\\begin{array}{c}\n",
    "0 \\\\\n",
    "0 \\\\\n",
    "\\vdots \\\\\n",
    "0 \\\\\n",
    "\\hline x^{\\text {init }} \\\\\n",
    "x^{\\text {des }}\n",
    "\\end{array}\\right]\n",
    "\\end{gathered}\n",
    "$$"
   ]
  },
  {
   "cell_type": "code",
   "execution_count": 7,
   "id": "7a6aff9e",
   "metadata": {},
   "outputs": [],
   "source": [
    "def LQR_cvx(x0, A, B, preview, dim_state, dim_ctrl):\n",
    "    Q = np.eye(dim_state) * 1\n",
    "    R = np.eye(dim_ctrl) * 20\n",
    "    L = np.eye(dim_state) * 100\n",
    "\n",
    "    n_u = dim_ctrl * preview\n",
    "    n_x = dim_state * (preview + 1)\n",
    "\n",
    "    n_var = n_u + n_x\n",
    "    n_eq  = dim_state * (preview + 1) # dynamics\n",
    "\n",
    "    C = np.zeros((n_eq, n_var))\n",
    "    d = np.zeros((n_eq, 1))\n",
    "\n",
    "    P = np.zeros((n_var, n_var))\n",
    "    q = np.zeros((n_var, 1))\n",
    "    for k in range(preview):\n",
    "        P[k * dim_state:(k+1) * dim_state, k * dim_state:(k+1) * dim_state] = Q\n",
    "        P[n_x + k * dim_ctrl:n_x + (k+1) * dim_ctrl, n_x + k * dim_ctrl:n_x + (k+1) * dim_ctrl] = R\n",
    "    P[n_x - dim_state:n_x, n_x - dim_state:n_x] = L\n",
    "\n",
    "    for k in range(preview):\n",
    "        C[k * dim_state:(k+1) * dim_state,      k * dim_state:(k+1) * dim_state]       = A\n",
    "        C[k * dim_state:(k+1) * dim_state,  (k+1) * dim_state:(k+2) * dim_state]       = -np.eye(dim_state)\n",
    "        C[k * dim_state:(k+1) * dim_state, n_x + k * dim_ctrl:n_x + (k+1) * dim_ctrl]  = B\n",
    "    \n",
    "    C[dim_state * preview:dim_state * (preview + 1), 0:dim_state] = np.eye(dim_state)\n",
    "    d[-dim_state:, 0] = x0\n",
    "\n",
    "    # Define and solve the CVXPY problem.\n",
    "    x = cp.Variable(n_var)\n",
    "    prob = cp.Problem(cp.Minimize((1/2)*cp.quad_form(x, P) + q.T @ x),\n",
    "                     [\n",
    "                      C @ x == np.squeeze(d),\n",
    "                    ])\n",
    "    prob.solve(verbose=False, max_iter = 10000)\n",
    "\n",
    "    u_act = x.value[n_x:n_x + dim_ctrl]\n",
    "\n",
    "    return [u_act]"
   ]
  },
  {
   "cell_type": "code",
   "execution_count": 8,
   "id": "33ffd2b3",
   "metadata": {},
   "outputs": [
    {
     "data": {
      "image/png": "[encoded data removed]",
      "text/plain": [
       "<Figure size 360x216 with 1 Axes>"
      ]
     },
     "metadata": {
      "needs_background": "light"
     },
     "output_type": "display_data"
    },
    {
     "data": {
      "image/png": "[encoded data removed]",
      "text/plain": [
       "<Figure size 360x216 with 1 Axes>"
      ]
     },
     "metadata": {
      "needs_background": "light"
     },
     "output_type": "display_data"
    }
   ],
   "source": [
    "N_sim = 100\n",
    "preview = 20\n",
    "# for preview in [3, 4, 5, 6, 10, 20]:\n",
    "x_log, u_log = sim_LinSys(x0, Ad, Bd, LQR_cvx, N_sim, preview)\n",
    "plot_traj(x_log, u_log, preview)\n",
    "plot_input(x_log, u_log, preview)"
   ]
  },
  {
   "cell_type": "markdown",
   "id": "ef4d630f",
   "metadata": {},
   "source": [
    "## Recover the state feedback\n",
    "\n",
    "As discussed during the lecture, the LQR controller induces a linear state feedback:\n",
    "\n",
    "$$u_k = K x_k.$$\n",
    "\n",
    "Now we recover the linear state feedback as follows. \n",
    "\n",
    "Given the closed-loop system, we have the matrix of states:\n",
    "\n",
    "$$X:= \\left[x_0, x_1, x_2,\\cdots, x_{N-1}, x_N \\right] \\in \\mathbb{R}^{n \\times (N+1)}.$$\n",
    "\n",
    "and the matrix of the input:\n",
    "\n",
    "$$U:= \\left[ u_0, u_1, u_2, \\cdots, u_{N-1}, u_N \\right] \\in \\mathbb{R}^{m \\times (N+1)}.$$\n",
    "\n",
    "Then we have:\n",
    "\n",
    "$$U = K X. $$\n",
    "\n",
    "If we consider each column of $K$, we have:\n",
    "\n",
    "$$\n",
    "K =: \\begin{bmatrix}K_1 \\\\ K_2 \\\\ \\vdots \\\\ K_m \\end{bmatrix}, K_i \\in \\mathbb{R}^{1\\times n}\n",
    "$$\n",
    "\n",
    "$$\\begin{bmatrix} U_1 \\\\ U_2 \\\\ \\vdots \\\\ U_m \\end{bmatrix} \n",
    "= \\begin{bmatrix} K_1x_0 & K_1x_1 & \\cdots & K_1x_N \\\\\n",
    "                  K_2x_0 & K_2x_1 & \\cdots & K_2x_N \\\\\n",
    "                  \\vdots & \\vdots & \\vdots & \\vdots & \\\\ \n",
    "                  K_mx_0 & K_mx_1 & \\cdots & K_mx_N \\\\ \\end{bmatrix},$$\n",
    "\n",
    "$$\n",
    "U_i = K_i X, i = 1, 2, \\cdots, m.\n",
    "$$\n",
    "\n",
    "Thus, we can obtain each column of $K$ via least squares.\n",
    "\n",
    "The ordinary least squares (OLS) computes the minimum 2-norm solution:\n",
    "\n",
    "$$\n",
    "\\begin{equation}\n",
    "\\hat{K_i} = \\argmin_{K_i} \\|U^{T}_i - X^{T}K^{T}_i\\|^2\n",
    "\\end{equation}\n",
    "$$\n",
    "\n",
    "Via the first-order optimality condition, we have:\n",
    "\n",
    "$$\n",
    "\\begin{equation}\n",
    "\\begin{aligned}\n",
    "&\\frac{\\partial \\|U^{T}_i - X^{T}K^{T}_i\\|^2}{\\partial K^{T}_i}  \\\\\n",
    "= &\\frac{\\partial}{\\partial K^T_i} (K_iXX^{T}K^T_i - 2U_iX^{T}K^{T}_i) \\\\\n",
    "= & 2 (XX^{T}K^T_i - XU_i^T)\n",
    "= 0.\n",
    "\\end{aligned}\n",
    "\\end{equation}\n",
    "$$\n",
    "\n",
    "Finally, we have:\n",
    "$$\n",
    "\\hat{K}^{T}_i = (XX^{T})^{-1}XU^{T}_i,\n",
    "$$\n",
    "\n",
    "We stack them together:\n",
    "\n",
    "$$\n",
    "\\hat{K}^T = (XX^{T})^{-1}XU^{T}, \\ \\ \\ \\hat{K} = UX^{T}(X^{T}X)^{-1}.\n",
    "$$"
   ]
  },
  {
   "cell_type": "code",
   "execution_count": 9,
   "id": "0d423494",
   "metadata": {},
   "outputs": [
    {
     "name": "stdout",
     "output_type": "stream",
     "text": [
      "The shape of X is:\n",
      "(3, 100)\n",
      "The shape of U is:\n",
      "(2, 100)\n",
      "The shape of K is:\n",
      "(2, 3)\n",
      "The residual is:\n",
      "5.8843231336279575e-15\n",
      "The K matrix is:\n",
      "[[ 0.62431566 -0.30746496 -1.28033423]\n",
      " [ 2.76538864 -1.28033423 -5.7872    ]]\n"
     ]
    }
   ],
   "source": [
    "U = u_log.T\n",
    "X = x_log[1:, :].T\n",
    "print(\"The shape of X is:\")\n",
    "print(X.shape)\n",
    "\n",
    "print(\"The shape of U is:\")\n",
    "print(U.shape)\n",
    "\n",
    "# solver for K\n",
    "# K = U @ X.T @ np.linalg.inv(X @ X.T)\n",
    "K = U @ np.linalg.pinv(X)\n",
    "\n",
    "\n",
    "print(\"The shape of K is:\")\n",
    "print(K.shape)\n",
    "\n",
    "res = (U - K @ X)\n",
    "print(\"The residual is:\")\n",
    "print(np.sqrt(np.sum(res**2)))\n",
    "\n",
    "print(\"The K matrix is:\")\n",
    "print(K)"
   ]
  },
  {
   "cell_type": "markdown",
   "id": "ced149d9",
   "metadata": {},
   "source": [
    "## The influence of preview length\n",
    "\n",
    "Now we try different preview length and compare the eigevalues of the closed-loop systems. \n",
    "\n",
    "We substitute the linear state feedback to the discrete-time system:\n",
    "\n",
    "$$\n",
    "\\begin{align}\n",
    "x_{k+1} &= Ax_{k} + Bu_k \\\\\n",
    "        &= (A + BK)x_k\n",
    "\\end{align}\n",
    "$$"
   ]
  },
  {
   "cell_type": "code",
   "execution_count": 10,
   "id": "dea477b2",
   "metadata": {},
   "outputs": [
    {
     "data": {
      "image/png": "[encoded data removed]",
      "text/plain": [
       "<Figure size 360x216 with 1 Axes>"
      ]
     },
     "metadata": {
      "needs_background": "light"
     },
     "output_type": "display_data"
    }
   ],
   "source": [
    "N_sim = 100\n",
    "preview = 20\n",
    "x_log, u_log = sim_LinSys(x0, Ad, Bd, LQR_cvx, N_sim, preview)\n",
    "plot_traj(x_log, u_log, preview)\n",
    "\n",
    "U = u_log.T\n",
    "X = x_log[1:, :].T\n",
    "K = U @ X.T @ np.linalg.inv(X @ X.T)"
   ]
  },
  {
   "cell_type": "code",
   "execution_count": 11,
   "id": "2e9d82e5",
   "metadata": {},
   "outputs": [
    {
     "data": {
      "image/png": "[encoded data removed]",
      "text/plain": [
       "<Figure size 432x288 with 1 Axes>"
      ]
     },
     "metadata": {
      "needs_background": "light"
     },
     "output_type": "display_data"
    }
   ],
   "source": [
    "ev, _= np.linalg.eig(Ad + Bd @ K)\n",
    "\n",
    "for a in ev:\n",
    "    plt.plot(a.real, a.imag, 'b.', markersize = 10)\n",
    "plt.plot(np.cos(np.linspace(0, np.pi * 2, 100)), np.sin(np.linspace(0, np.pi * 2, 100)), \"k--\")\n",
    "\n",
    "plt.gca().set_aspect('equal')\n",
    "plt.title(\"Discrete time eigen value, preview = %d\" % preview)\n",
    "plt.xlabel(\"Re\")\n",
    "plt.ylabel(\"Im\")\n",
    "\n",
    "plt.grid()\n",
    "plt.show()"
   ]
  },
  {
   "cell_type": "markdown",
   "id": "b85dac03",
   "metadata": {},
   "source": [
    "# Controllability\n",
    "\n",
    "The **controllability** evaluate whether the input can drive the system to the entire space. \n",
    "\n",
    "## State transition\n",
    "\n",
    "Recall:\n",
    "\n",
    "$$\n",
    "x_{k+1} = Ax_k + Bu_k, x_k \\in \\mathbb{R}^n, u_k \\in \\mathbb{R}^m.\n",
    "$$\n",
    "\n",
    "We have:\n",
    "\n",
    "$$\n",
    "x_{k+2} = Ax_{k+1} + Bu_{k+1} = A(Ax_k + Bu_k) + Bu_{k+1} = A^2x_k + ABu_k + Bu_{k+1},\n",
    "$$\n",
    "\n",
    "$$\n",
    "\\cdots\n",
    "$$\n",
    "\n",
    "$$\n",
    "\\begin{align}\n",
    "x_N &= A^{N}x_0 + A^{N-1}Bu_0 + A^{N-2}Bu_0 + \\cdots Bu_{N-1}  \\\\\n",
    "    &= A^{N}x_0 + \\left[A^{N-1}B, A^{N-2}B, \\cdots, B\\right]\\begin{bmatrix}u_{N-1} \\\\ u_{N-2}\\\\ \\vdots \\\\ u_0 \\end{bmatrix}\n",
    "\\end{align}\n",
    "$$\n",
    "\n",
    "We define the matrix\n",
    "\n",
    "$$ \\mathcal{C}_N := \\left[A^{N-1}B, A^{N-2}B, \\cdots, B\\right]. $$\n",
    "\n",
    "We find that if $\\mathcal{C}_N$ has full column rank, we can choose the sequence of $\\left[u_0, u_1, \\cdots, u_{N-1}\\right]$ to any states. \n",
    "\n",
    "Now we do some re-ordering to group the columns corresponding to each input. Let $B = [B_1, B_2, \\cdots, B_m]$, then we have:\n",
    "\n",
    "$$\n",
    "\\mathcal{C}_N^{(i)} = \\left[A^{N-1}B_i, A^{N-2}B_i, \\cdots, B_i\\right] \\in \\mathbb{R}^{n \\times N}.\n",
    "$$\n",
    "\n",
    "Thus, the re-ordered $\\mathcal{C}_N$ matrix becomes:\n",
    "\n",
    "$$\n",
    "\\hat{\\mathcal{C}}_N = \\left[\\mathcal{C}_N^{(1)}, \\mathcal{C}_N^{(2)}, \\cdots, \\mathcal{C}_N^{(m)}  \\right].\n",
    "$$\n",
    "\n",
    "## n-step is necessary\n",
    "\n",
    "We consider each input separately. For each $\\mathcal{C}_N^{(i)}$, $\\operatorname{Rank}(\\mathcal{C}_N^{(i)}) \\le n$. To make $\\mathcal{C}_N^{(i)}$ have full rank, one need to consider at least $n$-steps of inputs. \n",
    "\n",
    "Thus, if $\\operatorname{Rank}(\\mathcal{C}_n^{(i)}) = n$, we can say that the system, $[A, B_i]$ is **controllable**. \n",
    "\n",
    "For multiple input case, we say the system $[A, B]$ is **controllable** if $\\operatorname{Rank}(\\mathcal{C}_N)$ has full rank. \n",
    "\n",
    "## n-step is sufficient\n",
    "\n",
    "The Cayley Hamilton Theorem suggests that, for $A \\in \\mathbb{R}^{n\\times n}$, $A^n$ can be represented by summation of $A^k, k \\le n-1$:\n",
    "\n",
    "$$\n",
    "A^n = a_0I + a_1A  + a_2A^2 + \\cdots + a_{n-1}A^{n-1}. \n",
    "$$\n",
    "\n",
    "Thus, for $N > n$, the state will still stay in the range of $\\mathcal{C}_n$. "
   ]
  },
  {
   "cell_type": "markdown",
   "id": "054c24cd",
   "metadata": {},
   "source": [
    "## Examples:\n",
    "\n",
    "### Controllable\n",
    "\n",
    "A controllable system, 3-order integrator. \n",
    "\n",
    "By control the $4$-order acceleration, the system can go to anywhere in the statespace. \n",
    "\n",
    "$$ \n",
    "\\begin{aligned}\n",
    "\\dot{x_1} &= x_2 \\\\\n",
    "\\dot{x_2} &= x_3 \\\\\n",
    "\\dot{x_3} &= u \\\\\n",
    "\\end{aligned}\n",
    "$$\n",
    "\n",
    "### Stabilizable\n",
    "\n",
    "\n",
    "A uncontrollable system. A 2-order integrator appending a stable first-order system. \n",
    "\n",
    "The control input can do nothing to the third dimension, but $x_3$ will converge to $0$. \n",
    "\n",
    "$$ \n",
    "\\begin{aligned}\n",
    "\\dot{x_1} &= x_2 \\\\\n",
    "\\dot{x_2} &= u \\\\\n",
    "\\dot{x_3} &= -0.1x_3 \\\\\n",
    "\\end{aligned}\n",
    "$$\n",
    "\n",
    "### Unstabilizable\n",
    "\n",
    "A uncontrollable system. A 2-order integrator appending a unstable first-order system. \n",
    "\n",
    "The control input can do nothing to the third dimension, and $x_3$ will explode. \n",
    "\n",
    "$$ \n",
    "\\begin{aligned}\n",
    "\\dot{x_1} &= x_2 \\\\\n",
    "\\dot{x_2} &= u \\\\\n",
    "\\dot{x_3} &= 0.1x_3 \\\\\n",
    "\\end{aligned}\n",
    "$$\n"
   ]
  },
  {
   "cell_type": "code",
   "execution_count": 12,
   "id": "95d1a617",
   "metadata": {},
   "outputs": [
    {
     "name": "stdout",
     "output_type": "stream",
     "text": [
      "The controllability matrix:\n",
      "[[0.005 0.015 0.025]\n",
      " [0.1   0.1   0.1  ]\n",
      " [0.    0.    0.   ]]\n",
      "The rank:\n",
      "2\n"
     ]
    },
    {
     "data": {
      "image/png": "[encoded data removed]",
      "text/plain": [
       "<Figure size 360x216 with 1 Axes>"
      ]
     },
     "metadata": {
      "needs_background": "light"
     },
     "output_type": "display_data"
    }
   ],
   "source": [
    "## Controllable system\n",
    "# Bc = np.array([[1], \n",
    "#                [1],\n",
    "#                [1]])\n",
    "\n",
    "# Ac = np.array([[0, 1, 0],\n",
    "#                [0, 0, 1],\n",
    "#                [0, 0, 0]])\n",
    "\n",
    "## Uncontrollable system, but can be stabilized. \n",
    "Bc = np.array([[0], \n",
    "               [1],\n",
    "               [0]])\n",
    "\n",
    "Ac = np.array([[0, 1,    0],\n",
    "               [0, 0,    0],\n",
    "               [0, 0, -0.1]])\n",
    "\n",
    "## Uncontrollable system, and can not be stabilized. \n",
    "# Bc = np.array([[0], \n",
    "#                [1],\n",
    "#                [0]])\n",
    "\n",
    "# Ac = np.array([[0, 1,    0],\n",
    "#                [0, 0,    0],\n",
    "#                [0, 0, 0.1]])\n",
    "\n",
    "\n",
    "## I am using the infinite series ...\n",
    "Ad = np.eye(3) + Ac * dt + Ac @ Ac * dt**2 / 2\n",
    "Bd = Bc * dt + Ac @ Bc * dt**2 / 2\n",
    "\n",
    "C = np.concatenate((Bd, Ad @ Bd, Ad @ Ad @ Bd), axis = 1)\n",
    "\n",
    "print(\"The controllability matrix:\")\n",
    "print(C)\n",
    "\n",
    "print(\"The rank:\")\n",
    "\n",
    "print(np.linalg.matrix_rank(C))\n",
    "\n",
    "######\n",
    "N_sim = 200\n",
    "preview = 8\n",
    "x0 = np.random.randn(3, 1)\n",
    "x_log, u_log = sim_LinSys(x0, Ad, Bd, LQR_linalg, N_sim, preview)\n",
    "\n",
    "plt.figure(figsize=(5, 3))\n",
    "\n",
    "plt.plot(x_log[:, 0], '--', label = \"x_1\")\n",
    "plt.plot(x_log[:, 1], '--', label = \"x_2\")\n",
    "plt.plot(x_log[:, 2], '--', label = \"x_3\")\n",
    "\n",
    "plt.title('Trajectory')\n",
    "plt.legend()\n",
    "plt.grid()\n",
    "plt.show()\n"
   ]
  },
  {
   "cell_type": "markdown",
   "id": "91ae3ba4",
   "metadata": {},
   "source": [
    "## Reference\n",
    "\n",
    "[1] https://en.wikipedia.org/wiki/Cayley%E2%80%93Hamilton_theorem"
   ]
  }
 ],
 "metadata": {
  "kernelspec": {
   "display_name": "Python 3 (ipykernel)",
   "language": "python",
   "name": "python3"
  },
  "language_info": {
   "codemirror_mode": {
    "name": "ipython",
    "version": 3
   },
   "file_extension": ".py",
   "mimetype": "text/x-python",
   "name": "python",
   "nbconvert_exporter": "python",
   "pygments_lexer": "ipython3",
   "version": "3.9.12"
  }
 },
 "nbformat": 4,
 "nbformat_minor": 5
}
